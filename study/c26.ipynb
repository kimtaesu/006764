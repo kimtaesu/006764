{
 "cells": [
  {
   "cell_type": "markdown",
   "metadata": {},
   "source": [
    "파이썬은 다중 상속을 지원하며 그것에 의해 Mixins 를 만들 수 있다. Mixin 은 클래스에 추가적인 속성이나 메소드를 제공하는 것을 말하는데, 스칼라는 traits 를 통해서 제공하며, 루비등도 제공한다. 파이썬은 Mixin 을 위한 특별한 키워드는 없으며, 단지 다중상속을 통해서 만들기 때문에 이 과정에서 문제가 생길 소지가 생긴다.\n"
   ]
  },
  {
   "cell_type": "markdown",
   "metadata": {},
   "source": [
    ""
   ]
  },
  {
   "cell_type": "markdown",
   "metadata": {},
   "source": [
    "### 믹스인과 표준 다중 상속의 차이점은 의미론의 문제 일뿐입니다.\n",
    "\n",
    "믹스 인의 포인트는 상속을 통해 다른 유형에 \"혼합\"할 수있는 유형을 생성하는 것입니다. \n",
    "\n",
    "상속 유형에 영향을주지 않으면 서 해당 유형에 유익한 기능을 제공하는 것입니다."
   ]
  },
  {
   "cell_type": "markdown",
   "metadata": {},
   "source": [
    ""
   ]
  },
  {
   "cell_type": "markdown",
   "metadata": {},
   "source": [
    "초반 예제는 믹스인에 대한 개념을 혼란스럽게 하기 때문에 스킵한다."
   ]
  },
  {
   "cell_type": "code",
   "execution_count": 74,
   "metadata": {},
   "outputs": [],
   "source": [
    "class ToDictMixin(object):\n",
    "    def to_dict(self):\n",
    "        print(\"called to_dict\")\n",
    "        return self._traverse_dict(self.__dict__)\n",
    "\n",
    "\n",
    "# Example 2\n",
    "    def _traverse_dict(self, instance_dict):\n",
    "        output = {}\n",
    "        for key, value in instance_dict.items():\n",
    "            output[key] = self._traverse(key, value)\n",
    "        return output\n",
    "\n",
    "    def _traverse(self, key, value):\n",
    "        if isinstance(value, ToDictMixin):\n",
    "            return value.to_dict()\n",
    "        elif isinstance(value, dict):\n",
    "            return self._traverse_dict(value)\n",
    "        elif isinstance(value, list):\n",
    "            return [self._traverse(key, i) for i in value]\n",
    "        elif hasattr(value, '__dict__'):\n",
    "            return self._traverse_dict(value.__dict__)\n",
    "        else:\n",
    "            return value"
   ]
  },
  {
   "cell_type": "code",
   "execution_count": 75,
   "metadata": {},
   "outputs": [],
   "source": [
    "import json\n",
    "\n",
    "class JsonMixin(object):\n",
    "    @classmethod\n",
    "    def from_json(cls, data):\n",
    "        print(\"called from_json\")\n",
    "        kwargs = json.loads(data)\n",
    "        return cls(**kwargs)\n",
    "\n",
    "    def to_json(self):\n",
    "        print(\"called to_json\")\n",
    "        return json.dumps(self.to_dict())\n"
   ]
  },
  {
   "cell_type": "markdown",
   "metadata": {},
   "source": [
    "Json, Dict 형태로 취급하는 두 클래스가 있다."
   ]
  },
  {
   "cell_type": "code",
   "execution_count": 76,
   "metadata": {},
   "outputs": [],
   "source": [
    "class DatacenterRack(ToDictMixin, JsonMixin):\n",
    "    def __init__(self, switch=None, machines=None):\n",
    "        self.switch = Switch(**switch)\n",
    "        self.machines = [\n",
    "            Machine(**kwargs) for kwargs in machines]\n"
   ]
  },
  {
   "cell_type": "code",
   "execution_count": 77,
   "metadata": {},
   "outputs": [],
   "source": [
    "class Switch(ToDictMixin, JsonMixin):\n",
    "    def __init__(self, ports=None, speed=None):\n",
    "        self.ports = ports\n",
    "        self.speed = speed"
   ]
  },
  {
   "cell_type": "code",
   "execution_count": 78,
   "metadata": {},
   "outputs": [],
   "source": [
    "class Machine(ToDictMixin, JsonMixin):\n",
    "    def __init__(self, cores=None, ram=None, disk=None):\n",
    "        self.cores = cores\n",
    "        self.ram = ram\n",
    "        self.disk = disk"
   ]
  },
  {
   "cell_type": "code",
   "execution_count": 79,
   "metadata": {},
   "outputs": [],
   "source": [
    "serialized = \"\"\"{\n",
    "    \"switch\": {\"ports\": 5, \"speed\": 1e9},\n",
    "    \"machines\": [\n",
    "        {\"cores\": 8, \"ram\": 32e9, \"disk\": 5e12},\n",
    "        {\"cores\": 4, \"ram\": 16e9, \"disk\": 1e12},\n",
    "        {\"cores\": 2, \"ram\": 4e9, \"disk\": 500e9}\n",
    "    ]\n",
    "}\"\"\""
   ]
  },
  {
   "cell_type": "code",
   "execution_count": 88,
   "metadata": {},
   "outputs": [
    {
     "name": "stdout",
     "output_type": "stream",
     "text": [
      "'called from_json'\n'called to_json'\n'called to_dict'\n'called to_dict'\n'called to_dict'\n'called to_dict'\n'called to_dict'\n"
     ]
    }
   ],
   "source": [
    "deserialized = DatacenterRack.from_json(serialized)\n",
    "\n",
    "roundtrip = deserialized.to_json()\n",
    "\n",
    "assert json.loads(serialized) == json.loads(roundtrip)"
   ]
  },
  {
   "cell_type": "code",
   "execution_count": 81,
   "metadata": {},
   "outputs": [
    {
     "data": {
      "text/plain": [
       "{'machines': [{'cores': 8, 'disk': 5000000000000.0, 'ram': 32000000000.0},\n  {'cores': 4, 'disk': 1000000000000.0, 'ram': 16000000000.0},\n  {'cores': 2, 'disk': 500000000000.0, 'ram': 4000000000.0}],\n 'switch': {'ports': 5, 'speed': 1000000000.0}}"
      ]
     },
     "execution_count": 81,
     "metadata": {},
     "output_type": "execute_result"
    }
   ],
   "source": [
    "json.loads(serialized)"
   ]
  },
  {
   "cell_type": "code",
   "execution_count": 82,
   "metadata": {},
   "outputs": [
    {
     "data": {
      "text/plain": [
       "{'machines': [{'cores': 8, 'disk': 5000000000000.0, 'ram': 32000000000.0},\n  {'cores': 4, 'disk': 1000000000000.0, 'ram': 16000000000.0},\n  {'cores': 2, 'disk': 500000000000.0, 'ram': 4000000000.0}],\n 'switch': {'ports': 5, 'speed': 1000000000.0}}"
      ]
     },
     "execution_count": 82,
     "metadata": {},
     "output_type": "execute_result"
    }
   ],
   "source": [
    "json.loads(roundtrip)"
   ]
  },
  {
   "cell_type": "code",
   "execution_count": 84,
   "metadata": {},
   "outputs": [
    {
     "name": "stdout",
     "output_type": "stream",
     "text": [
      "'called to_dict'\n'called to_dict'\n'called to_dict'\n'called to_dict'\n'called to_dict'\n"
     ]
    },
    {
     "data": {
      "text/plain": [
       "{'machines': [{'cores': 8, 'disk': 5000000000000.0, 'ram': 32000000000.0},\n  {'cores': 4, 'disk': 1000000000000.0, 'ram': 16000000000.0},\n  {'cores': 2, 'disk': 500000000000.0, 'ram': 4000000000.0}],\n 'switch': {'ports': 5, 'speed': 1000000000.0}}"
      ]
     },
     "execution_count": 84,
     "metadata": {},
     "output_type": "execute_result"
    }
   ],
   "source": [
    "deserialized.to_dict()"
   ]
  },
  {
   "cell_type": "markdown",
   "metadata": {},
   "source": [
    "<img src=\"160611_interface.png\">"
   ]
  }
 ],
 "metadata": {
  "kernelspec": {
   "display_name": "Python 2",
   "language": "python",
   "name": "python2"
  },
  "language_info": {
   "codemirror_mode": {
    "name": "ipython",
    "version": 2
   },
   "file_extension": ".py",
   "mimetype": "text/x-python",
   "name": "python",
   "nbconvert_exporter": "python",
   "pygments_lexer": "ipython2",
   "version": "2.7.6"
  }
 },
 "nbformat": 4,
 "nbformat_minor": 0
}
