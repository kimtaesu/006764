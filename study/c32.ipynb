{
 "cells": [
  {
   "cell_type": "markdown",
   "metadata": {
    "collapsed": true
   },
   "source": [
    "지연 속성에는 __getattr__, __getattribute__, __setattr__ 을 사용하자\n"
   ]
  },
  {
   "cell_type": "markdown",
   "metadata": {},
   "source": [
    "클래스에 __getattr__ 메서드를 정의하면 객체의 인스턴스 딕셔너리에서 속성을 찾을 수 없을 때마다 이 메서드가 호출된다."
   ]
  },
  {
   "cell_type": "code",
   "execution_count": 1,
   "metadata": {},
   "outputs": [],
   "source": [
    "\n",
    "class LazyDB(object):\n",
    "    def __init__(self):\n",
    "        self.exists = 5\n",
    "\n",
    "    def __getattr__(self, name):\n",
    "        value = 'Value for %s' % name\n",
    "        setattr(self, name, value)\n",
    "        return value\n",
    "\n"
   ]
  },
  {
   "cell_type": "code",
   "execution_count": 2,
   "metadata": {},
   "outputs": [
    {
     "name": "stdout",
     "output_type": "stream",
     "text": [
      "Before: {'exists': 5}\nfoo:    Value for foo\nAfter:  {'exists': 5, 'foo': 'Value for foo'}\n"
     ]
    }
   ],
   "source": [
    "\n",
    "# Example 2\n",
    "data = LazyDB()\n",
    "# exists 속성을 가지고 있다. \n",
    "print('Before:', data.__dict__)\n",
    "print('foo:   ', data.foo)\n",
    "print('After: ', data.__dict__)\n"
   ]
  },
  {
   "cell_type": "markdown",
   "metadata": {},
   "source": [
    "LazyDB 의 \"foo\" 라는 속성을 접근했을 때 \"setattr\" foo 속성을 선언한다. "
   ]
  },
  {
   "cell_type": "code",
   "execution_count": 23,
   "metadata": {},
   "outputs": [],
   "source": [
    "class LoggingLazyDB(LazyDB):\n",
    "        \n",
    "    def __getattr__(self, name):\n",
    "        print('Called __getattr__(%s)' % name)\n",
    "        return super().__getattr__(name)\n"
   ]
  },
  {
   "cell_type": "code",
   "execution_count": 24,
   "metadata": {
    "collapsed": true
   },
   "outputs": [
    {
     "name": "stdout",
     "output_type": "stream",
     "text": [
      "exists: 5\nCalled __getattr__(foo)\nfoo:    Value for foo\nfoo:    Value for foo\n"
     ]
    }
   ],
   "source": [
    "\n",
    "data = LoggingLazyDB()\n",
    "print('exists:', data.exists)\n",
    "print('foo:   ', data.foo)\n",
    "print('foo:   ', data.foo)"
   ]
  },
  {
   "cell_type": "markdown",
   "metadata": {},
   "source": [
    "exist 는 속성이 딕셔너리에 있으므로 절대 __getattr__ 이 호출되지 않는다.\n",
    "\n",
    "foo 는 최초에는 호출되어서 foo 속성을 딕셔너리에 저장하였기 때문에\n",
    "\n",
    "두번 이상 부터는 호출되지 않는다.\n"
   ]
  },
  {
   "cell_type": "code",
   "execution_count": 25,
   "metadata": {},
   "outputs": [],
   "source": [
    "class ValidatingDB(object):\n",
    "    def __init__(self):\n",
    "        self.exists = 5\n",
    "\n",
    "    def __getattribute__(self, name):\n",
    "        print('Called __getattribute__(%s)' % name)\n",
    "        try:\n",
    "            return super().__getattribute__(name)\n",
    "        except AttributeError:\n",
    "            value = 'Value for %s' % name\n",
    "            setattr(self, name, value)\n",
    "            return value\n"
   ]
  },
  {
   "cell_type": "code",
   "execution_count": 26,
   "metadata": {},
   "outputs": [
    {
     "name": "stdout",
     "output_type": "stream",
     "text": [
      "Called __getattribute__(exists)\nexists: 5\nCalled __getattribute__(foo)\nfoo:    Value for foo\nCalled __getattribute__(foo)\nfoo:    Value for foo\n"
     ]
    }
   ],
   "source": [
    "data = ValidatingDB()\n",
    "print('exists:', data.exists)\n",
    "print('foo:   ', data.foo)\n",
    "print('foo:   ', data.foo)"
   ]
  },
  {
   "cell_type": "markdown",
   "metadata": {},
   "source": [
    "파이썬에서는 \"__getattribute__\" 라는 또 다른 후크가 존재하며, \n",
    "이 메서드는 객체의 속성에 접근할때마다 호출되고, 해당 속성이 존재하더라도 역시 호출된다."
   ]
  },
  {
   "cell_type": "code",
   "execution_count": 27,
   "metadata": {},
   "outputs": [
    {
     "name": "stdout",
     "output_type": "stream",
     "text": [
      "Before:      {'exists': 5}\nCalled __getattr__(foo)\nfoo exists:  True\nAfter:       {'exists': 5, 'foo': 'Value for foo'}\nfoo exists:  True\n"
     ]
    }
   ],
   "source": [
    "data = LoggingLazyDB()\n",
    "print('Before:     ', data.__dict__)\n",
    "print('foo exists: ', hasattr(data, 'foo'))\n",
    "print('After:      ', data.__dict__)\n",
    "print('foo exists: ', hasattr(data, 'foo'))"
   ]
  },
  {
   "cell_type": "markdown",
   "metadata": {},
   "source": [
    "종종 내장함수 hasattr 프로퍼티로 값이 있는지 확인하고 getattr 로 프로퍼티 값을 가져온다.\n",
    "\n",
    "hasattr -> getattribute -> getattr -> setattr 순으로 호출된다."
   ]
  },
  {
   "cell_type": "code",
   "execution_count": 29,
   "metadata": {
    "collapsed": true
   },
   "outputs": [
    {
     "name": "stdout",
     "output_type": "stream",
     "text": [
      "Called __getattribute__(foo)\nfoo exists:  True\nCalled __getattribute__(foo)\nfoo exists:  True\n"
     ]
    }
   ],
   "source": [
    "data = ValidatingDB()\n",
    "print('foo exists: ', hasattr(data, 'foo'))\n",
    "print('foo exists: ', hasattr(data, 'foo'))"
   ]
  },
  {
   "cell_type": "markdown",
   "metadata": {},
   "source": [
    "__getattribute__ 는 hasattr 로 호출할 때 마다 호출된다.  "
   ]
  },
  {
   "cell_type": "code",
   "execution_count": 30,
   "metadata": {},
   "outputs": [],
   "source": [
    "class SavingDB(object):\n",
    "    def __setattr__(self, name, value):\n",
    "        # Save some data to the DB log\n",
    "        super().__setattr__(name, value)"
   ]
  },
  {
   "cell_type": "code",
   "execution_count": 31,
   "metadata": {},
   "outputs": [],
   "source": [
    "class LoggingSavingDB(SavingDB):\n",
    "    def __setattr__(self, name, value):\n",
    "        print('Called __setattr__(%s, %r)' % (name, value))\n",
    "        super().__setattr__(name, value)"
   ]
  },
  {
   "cell_type": "code",
   "execution_count": 32,
   "metadata": {},
   "outputs": [
    {
     "name": "stdout",
     "output_type": "stream",
     "text": [
      "Before:  {}\nCalled __setattr__(foo, 5)\nAfter:   {'foo': 5}\nCalled __setattr__(foo, 7)\nFinally: {'foo': 7}\n"
     ]
    }
   ],
   "source": [
    "\n",
    "data = LoggingSavingDB()\n",
    "print('Before: ', data.__dict__)\n",
    "data.foo = 5\n",
    "print('After:  ', data.__dict__)\n",
    "data.foo = 7\n",
    "print('Finally:', data.__dict__)"
   ]
  },
  {
   "cell_type": "markdown",
   "metadata": {},
   "source": [
    "setattr 은 속성에 값을 할당할때 마다 호출된다."
   ]
  },
  {
   "cell_type": "code",
   "execution_count": 33,
   "metadata": {},
   "outputs": [],
   "source": [
    "class BrokenDictionaryDB(object):\n",
    "    def __init__(self, data):\n",
    "        self._data = data\n",
    "\n",
    "    def __getattribute__(self, name):\n",
    "        print('Called __getattribute__(%s)' % name)\n",
    "        return self._data[name]\n"
   ]
  },
  {
   "cell_type": "code",
   "execution_count": 35,
   "metadata": {},
   "outputs": [],
   "source": [
    "# stack over flow\n",
    "# try:\n",
    "#     data = BrokenDictionaryDB({'foo': 3})\n",
    "#     data.foo\n",
    "# except:\n",
    "#     logging.exception('Expected')\n",
    "# else:\n",
    "#     assert False"
   ]
  },
  {
   "cell_type": "markdown",
   "metadata": {},
   "source": [
    "__getattribute__ 를 잘못 사용하면 스택오버플로우가 발생할 수 있는 문제점이 있다.\n",
    "\n",
    "__getattribute__ 안에서 self.data 에 접근하면 __getattribute__ 다시 호출되어 진다.\n",
    "\n",
    "\n"
   ]
  },
  {
   "cell_type": "code",
   "execution_count": 36,
   "metadata": {},
   "outputs": [
    {
     "name": "stdout",
     "output_type": "stream",
     "text": [
      "3\n"
     ]
    }
   ],
   "source": [
    "class DictionaryDB(object):\n",
    "    def __init__(self, data):\n",
    "        self._data = data\n",
    "\n",
    "    def __getattribute__(self, name):\n",
    "        data_dict = super().__getattribute__('_data')\n",
    "        return data_dict[name]\n",
    "\n",
    "data = DictionaryDB({'foo': 3})\n",
    "print(data.foo)"
   ]
  },
  {
   "cell_type": "markdown",
   "metadata": {},
   "source": [
    "super().__getattribute__('_data') 로 접근하여 이 문제를 피할 수 있다. "
   ]
  },
  {
   "cell_type": "code",
   "execution_count": 38,
   "metadata": {},
   "outputs": [],
   "source": [
    "# class DictionaryDB(object):\n",
    "#     def __init__(self, data):\n",
    "#         self._data = data\n",
    "#     def __setattr__(self, key, value):\n",
    "#         self.data = value\n",
    "# \n",
    "# data = DictionaryDB({'foo': 3})\n",
    "# print(data.foo)"
   ]
  },
  {
   "cell_type": "markdown",
   "metadata": {},
   "source": [
    "마찬가지로 settattr 에서도 super.__setattr__() 을 호출해야 스택오버플로우를 피할 수 있다."
   ]
  },
  {
   "cell_type": "code",
   "execution_count": null,
   "metadata": {},
   "outputs": [],
   "source": []
  }
 ],
 "metadata": {
  "kernelspec": {
   "display_name": "Python 2",
   "language": "python",
   "name": "python2"
  },
  "language_info": {
   "codemirror_mode": {
    "name": "ipython",
    "version": 2
   },
   "file_extension": ".py",
   "mimetype": "text/x-python",
   "name": "python",
   "nbconvert_exporter": "python",
   "pygments_lexer": "ipython2",
   "version": "2.7.6"
  }
 },
 "nbformat": 4,
 "nbformat_minor": 0
}
