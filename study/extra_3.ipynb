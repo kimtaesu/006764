{
 "cells": [
  {
   "cell_type": "markdown",
   "metadata": {
    "collapsed": true
   },
   "source": [
    "http://python-guide-kr.readthedocs.io/ko/latest/starting/which-python.html"
   ]
  },
  {
   "cell_type": "markdown",
   "metadata": {},
   "source": [
    "# CPython"
   ]
  },
  {
   "cell_type": "markdown",
   "metadata": {},
   "source": [
    "CPython 은 C로 작성된 파이썬 구현의 레퍼런스로 파이썬 코드를 가상 머신에 의해 해석되는 중간 바이트코드로 컴파일합니다.\n",
    "\n",
    "C언어 확장 기능을 쓰는 패키지를 사용하려면 CPython이 유일한 구현 방법입니다.\n"
   ]
  },
  {
   "cell_type": "markdown",
   "metadata": {},
   "source": [
    "# PyPy\n",
    "PyPy 는 파이썬 언어의 정적 타입으로만 구현된 파이썬 인터프리터로서 통칭 RPython이라 불립니다. \n",
    "\n",
    "RPython 이란 Restricted Python 제약이 있는 파이썬이라고 부릅니다. \n",
    "\n",
    "> 파이썬 프로그래밍 언어의 부분 집합 의미, 효율적인 정적 컴파일을 위해 기능을 제한하고 있다.\n",
    "\n",
    "이 인터프리터의 특징은 just-in-time 컴파일러와 복수의 백엔드(C, CLI, JVM)를 지원한다는 것입니다.\n",
    "\n",
    "PyPy의 목표는 파이썬의 리퍼런스 구현 방법인 CPython과 최대한의 호환성을 유지하는 동시에 그 성능을 향상시키는 것입니다.\n",
    "\n",
    "만약 파이썬 코드의 성능을 향상시키고자 한다면, PyPy은 한 번 써볼만한 가치가 있습니다. 벤치마크에서 PyPy는 CPython보다 5배나 빨랐습니다.\n"
   ]
  },
  {
   "cell_type": "markdown",
   "metadata": {},
   "source": [
    "# Jython\n",
    "\n",
    "Jython 은 파이썬 코드를 자바 바이트코드로 만들어 JVM(자바 가상 머신)에서 실행시키는 파이썬 구현입니다. \n",
    "\n",
    "뿐만 아니라 Jython은 자바 클래스를 파이썬 모듈처럼 불러와서 사용할 수 있습니다.\n",
    "\n",
    "자바 코드베이스를 끌어다 쓸 필요가 있거나 파이썬 코드를 JVM에서 돌릴 필요가 있다면, Jython은 최고의 선택이 될 것입니다."
   ]
  },
  {
   "cell_type": "markdown",
   "metadata": {},
   "source": [
    "# IronPython\n",
    "IronPython 은 닷넷 프레임워크를 위한 파이썬 구현입니다. 파이썬과 닷넷 프레임워크 라이브러리 둘 다 쓸 수 있고, 파이썬 코드를 닷넷 프레임워크의 다른 언어로 바꿀 수 있습니다."
   ]
  },
  {
   "cell_type": "markdown",
   "metadata": {},
   "source": [
    "## JIT 컴파일(just-in-time compilation) 또는 동적 번역(dynamic translation)은 \n",
    "\n",
    "프로그램을 실제 실행하는 시점에 기계어로 번역하는 컴파일 기법이다. \n",
    "이 기법은 프로그램의 실행 속도를 빠르게 하기 위해 사용된다.\n",
    "\n",
    "전통적인 입장에서 컴퓨터 프로그램을 만드는 방법의 두가지 \n",
    " 1. 인터프리트 방식\n",
    "\n",
    " 프로그래밍 언어를 읽어가면서 해당 기능에 대응하는 기계어 코드를 실행\n",
    "\n",
    " 2. 정적 컴파일 방식 \n",
    "\n",
    " 정적 컴파일은 실행하기 전에 프로그램 코드를 기계어로 번역한다.\n",
    "\n",
    "JIT 컴파일러는 두 가지의 방식을 혼합한 방식 \n",
    "\n",
    " 실행 시점에서 인터프리트 방식으로 기계어 코드를 생성하면서 그 코드를 캐싱하여, 같은 함수가 여러 번 불릴 때 매번 기계어 코드를 생성하는 것을 방지한다.\n",
    "\n",
    "최근의 자바 가상 머신과 .NET, V8(node.js)에서는 JIT 컴파일을 지원한다. \n",
    "즉, 자바 컴파일러가 자바 프로그램 코드를 바이트코드로 변환한 다음, 실제 바이트코드를 실행하는 시점에서 자바 가상 머신이 바이트코드를 JIT 컴파일을 통해 기계어로 변환한다."
   ]
  },
  {
   "cell_type": "code",
   "execution_count": null,
   "metadata": {},
   "outputs": [],
   "source": []
  }
 ],
 "metadata": {
  "kernelspec": {
   "display_name": "Python 2",
   "language": "python",
   "name": "python2"
  },
  "language_info": {
   "codemirror_mode": {
    "name": "ipython",
    "version": 2
   },
   "file_extension": ".py",
   "mimetype": "text/x-python",
   "name": "python",
   "nbconvert_exporter": "python",
   "pygments_lexer": "ipython2",
   "version": "2.7.6"
  }
 },
 "nbformat": 4,
 "nbformat_minor": 0
}
